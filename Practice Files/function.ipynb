{
 "cells": [
  {
   "cell_type": "code",
   "execution_count": 1,
   "id": "4a002657",
   "metadata": {},
   "outputs": [],
   "source": [
    "# Define the function \"say_hello\" so it prints \"Hello!\" when called\n",
    "def say_hello():\n",
    "    print(\"Hello!\")\n",
    "    \n"
   ]
  },
  {
   "cell_type": "code",
   "execution_count": 2,
   "id": "abe10f70",
   "metadata": {},
   "outputs": [
    {
     "name": "stdout",
     "output_type": "stream",
     "text": [
      "Hello!\n"
     ]
    }
   ],
   "source": [
    "# Call the function\n",
    "say_hello()"
   ]
  },
  {
   "cell_type": "code",
   "execution_count": 7,
   "id": "741db6d2",
   "metadata": {},
   "outputs": [
    {
     "name": "stdout",
     "output_type": "stream",
     "text": [
      "A thing\n"
     ]
    }
   ],
   "source": [
    "# Define the function saySomething() so it prints whatever is passed asthe argument\n",
    "def saySomething(something, standard=\"You didn't tell me to say anything\"):\n",
    "    print(something)\n",
    "    \n",
    "saySomething(\"A thing\")"
   ]
  },
  {
   "cell_type": "code",
   "execution_count": 8,
   "id": "6d67c730",
   "metadata": {},
   "outputs": [
    {
     "name": "stdout",
     "output_type": "stream",
     "text": [
      "Hello World!\n"
     ]
    }
   ],
   "source": [
    "# Call the function\n",
    "saySomething(\"Hello World!\")"
   ]
  },
  {
   "cell_type": "code",
   "execution_count": 9,
   "id": "b57fb3a7",
   "metadata": {},
   "outputs": [
    {
     "name": "stdout",
     "output_type": "stream",
     "text": [
      "Hello, my name is Jane. I'm learning Python!\n"
     ]
    }
   ],
   "source": [
    "janeSays = \"Hello, my name is Jane. I'm learning Python!\"\n",
    "saySomething(janeSays)"
   ]
  },
  {
   "cell_type": "code",
   "execution_count": 11,
   "id": "3dac454d",
   "metadata": {},
   "outputs": [],
   "source": [
    "# Define a function that calculates the percentage of students that passed both math and reading\n",
    "# math and reading an dreturns the passing percentage when the function is called\n",
    "\n",
    "def passingMathPercent(passMathCount, studentCount):\n",
    "    return passMathCount / float(studentCount) * 100"
   ]
  },
  {
   "cell_type": "code",
   "execution_count": 12,
   "id": "0c2d1573",
   "metadata": {},
   "outputs": [
    {
     "data": {
      "text/plain": [
       "74.9808526933878"
      ]
     },
     "execution_count": 12,
     "metadata": {},
     "output_type": "execute_result"
    }
   ],
   "source": [
    "passingMathCount = 29370\n",
    "totalStudentCount = 39170\n",
    "\n",
    "#Call the function\n",
    "passingMathPercent(passingMathCount, totalStudentCount)"
   ]
  },
  {
   "cell_type": "code",
   "execution_count": 13,
   "id": "0540b38f",
   "metadata": {},
   "outputs": [
    {
     "data": {
      "text/plain": [
       "0    B\n",
       "1    C\n",
       "2    B\n",
       "3    D\n",
       "dtype: object"
      ]
     },
     "execution_count": 13,
     "metadata": {},
     "output_type": "execute_result"
    }
   ],
   "source": [
    "# A list of my grades\n",
    "myGrades = ['B', 'C', 'B', 'D']\n",
    "\n",
    "#Import pandas\n",
    "import pandas as pd\n",
    "# Convert the myGrades to a series\n",
    "myGrades = pd.Series(myGrades)\n",
    "myGrades"
   ]
  },
  {
   "cell_type": "code",
   "execution_count": 15,
   "id": "d4284ebf",
   "metadata": {},
   "outputs": [
    {
     "data": {
      "text/plain": [
       "0    A\n",
       "1    B\n",
       "2    A\n",
       "3    C\n",
       "dtype: object"
      ]
     },
     "execution_count": 15,
     "metadata": {},
     "output_type": "execute_result"
    }
   ],
   "source": [
    "myGrades.map({\"B\": \"A\", \"C\": \"B\", \"D\": \"C\"})"
   ]
  },
  {
   "cell_type": "code",
   "execution_count": 18,
   "id": "f194ff82",
   "metadata": {},
   "outputs": [
    {
     "data": {
      "text/plain": [
       "0    92\n",
       "1    85\n",
       "2    87\n",
       "3    98\n",
       "dtype: object"
      ]
     },
     "execution_count": 18,
     "metadata": {},
     "output_type": "execute_result"
    }
   ],
   "source": [
    "# using the format() function\n",
    "myGrades = pd.Series([92.34, 84.56, 86.78, 98.32])\n",
    "myGrades.map(\"{:.0f}\".format)    "
   ]
  },
  {
   "cell_type": "code",
   "execution_count": null,
   "id": "87ba8524",
   "metadata": {},
   "outputs": [],
   "source": []
  }
 ],
 "metadata": {
  "kernelspec": {
   "display_name": "PythonData",
   "language": "python",
   "name": "pythondata"
  },
  "language_info": {
   "codemirror_mode": {
    "name": "ipython",
    "version": 3
   },
   "file_extension": ".py",
   "mimetype": "text/x-python",
   "name": "python",
   "nbconvert_exporter": "python",
   "pygments_lexer": "ipython3",
   "version": "3.7.11"
  }
 },
 "nbformat": 4,
 "nbformat_minor": 5
}
